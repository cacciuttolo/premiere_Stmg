{
 "cells": [
  {
   "cell_type": "markdown",
   "metadata": {},
   "source": [
    "## PYTHON RAPPELS : BOUCLES ![icone python](https://upload.wikimedia.org/wikipedia/commons/0/0a/Python.svg)"
   ]
  },
  {
   "cell_type": "markdown",
   "metadata": {},
   "source": [
    "#  Comment travailler avec un notebook Jupiter (ce document) ?\n",
    "Un notebook jupyter est composé de cellules : \n",
    "- certaines sont des cellules de texte (comme celle-ci, par exemple)\n",
    "- d'autres sont des cellules de code, où on écrit du langage python : on les reconnaît car il est écrit *Entrée [ ]* devant.\n",
    "\n",
    "\n",
    "On peut écrire dans chacune d'elle. Pour valider une cellule (**indispensable pour exécuter un programme python**), on peut soit utiliser le raccourci clavier Ctrl+Entrée, soit cliquer sur le bouton Exécuter. On peut exécuter plusieurs fois la cellule, si on a corrigé ou modifié un programme par exemple.\n",
    "\n",
    "\n",
    "**remarque :** dans un programme python, on peut utiliser le symbole # devant une ligne : cette ligne devient alors un commentaire, elle n'est pas exécutée par Python. \n",
    "\n",
    "\n",
    "Une fois le travail terminé, vous allez le télécharger pour ensuite l'envoyer au professeur.\n",
    "Pour cela, allez dans Fichier, Télécharger au format, puis HTML (.html)\n",
    "\n",
    "Le document téléchargé sera lisible par un navigateur internet, mais ne pourra pas être modifié."
   ]
  },
  {
   "cell_type": "markdown",
   "metadata": {},
   "source": [
    "# Les boucles\n",
    "Lorsqu’on veut répéter plusieurs fois une action similaire, on utilise une boucle.\n",
    "Par exemple, pour écrire les résultats d'une table de multiplication, pour calculer les termes d'une suite, …\n",
    "\n",
    "## La boucle pour / for\n",
    "Lorsqu'on sait exactement combien de fois on doit répéter l'action, on utilise une boucle bornée, à l'aide de l'instruction for."
   ]
  },
  {
   "cell_type": "code",
   "execution_count": null,
   "metadata": {},
   "outputs": [],
   "source": [
    "for i in range (10):\n",
    "    print(i)"
   ]
  },
  {
   "cell_type": "markdown",
   "metadata": {},
   "source": [
    "Dans ce programme, i est une variable qui va à chaque \"tour\" dans la boucle changer de valeur : in range(10) signifie que i va commencer par 0 et prendre toutes les valeurs entières jusqu'à 9.\n",
    "\n",
    "On n'est pas obligé de commencer à i=0, \n",
    "par exemple :"
   ]
  },
  {
   "cell_type": "code",
   "execution_count": null,
   "metadata": {},
   "outputs": [],
   "source": [
    "for i in range (3,10):\n",
    "    print(i)"
   ]
  },
  {
   "cell_type": "markdown",
   "metadata": {},
   "source": [
    "**exemple de boucle for.**\n",
    "\n",
    "Je veux créer une fonction qui affiche la table de multiplication de l'entier n de nx1 à nx10 :"
   ]
  },
  {
   "cell_type": "code",
   "execution_count": null,
   "metadata": {},
   "outputs": [],
   "source": [
    "def table(n):\n",
    "    for i in range (1,11):\n",
    "        print(n*i)\n",
    "table (7)"
   ]
  },
  {
   "cell_type": "markdown",
   "metadata": {},
   "source": [
    "On peut obtenir un affichage plus clair : "
   ]
  },
  {
   "cell_type": "code",
   "execution_count": null,
   "metadata": {},
   "outputs": [],
   "source": [
    "def table(n):\n",
    "    for i in range (1,11):\n",
    "        print(n,\"x\",i,\"=\",n*i)\n",
    "table(8)"
   ]
  },
  {
   "cell_type": "markdown",
   "metadata": {},
   "source": [
    "## Boucle tant que / While\n",
    "La boucle \"tant que\" permet de faire exactement ce que fait une boucle \"pour\", mais elle permet aussi de construire une boucle lorsqu'on ne sait pas au départ combien de \"passages\" seront nécessaires.\n",
    "Cette boucle est donc soumise à une condition : tant que la condition est vérifiée, on fait…\n",
    "Dans la boucle tant que, c'est le programmeur qui choisit la façon dont évolue la valeur de i.\n",
    "\n",
    "Le programme suivant affiche la même chose que le premier programme de la boucle \"for\""
   ]
  },
  {
   "cell_type": "code",
   "execution_count": null,
   "metadata": {},
   "outputs": [],
   "source": [
    "i=0              #on initialise la valeur de i (ici pour commencer à 0)\n",
    "while i<10:     #voici la condition : on répète tant que i est strictement inférieur à 10\n",
    "        print(i) #on affiche la valeur de i\n",
    "        i=i+1    #on n'oublie pas de faire varier la valeur de i : i faisait 0, il va faire 1, puis 2, ..."
   ]
  },
  {
   "cell_type": "markdown",
   "metadata": {},
   "source": [
    "La dernière ligne est essentielle : sans elle, i sera toujours égal à 0, et le programme va afficher une suite de \"0\", sans s'arrêter : en effet i=0 sera toujours inférieur à 10, la condition sera toujours vérifiée et la boucle ne s'arrêtera pas.\n",
    "\n",
    "**exemple de boucle tant que.**\n",
    "Je veux créer une fonction qui affiche la table de multiplication de l'entier n jusqu à ce que le résultat soit égal à 100 : je ne sais pas combien de fois je fais faire \"tourner\" la boucle…"
   ]
  },
  {
   "cell_type": "code",
   "execution_count": null,
   "metadata": {},
   "outputs": [],
   "source": [
    "def Table100(n):\n",
    "    i=1\n",
    "    produit=n*i\n",
    "    while produit<100:\n",
    "        print(produit)\n",
    "        i=i+1\n",
    "        produit=n*i\n",
    "\n",
    "Table100(7)"
   ]
  },
  {
   "cell_type": "markdown",
   "metadata": {},
   "source": [
    "# exercices\n",
    "\n",
    "## exercice 1.\n",
    "$(u_n)$ est une suite géométrique de premier terme $u_0=3$ et de raison 2.\n",
    "Ecris une fonction Terme(k) qui affiche les termes $u_0$, $u_1$, ..., $u_k$.\n",
    "\n",
    "*remarque :* ici on connaît le nombre de calculs à faire, on va utiliser la boucle \"for\".  \n",
    "\n"
   ]
  },
  {
   "cell_type": "code",
   "execution_count": null,
   "metadata": {},
   "outputs": [],
   "source": []
  },
  {
   "cell_type": "markdown",
   "metadata": {},
   "source": [
    "## exercice 2.\n",
    "$(s_n)$ est une suite géométrique de premier terme $s_0=1000$ et de raison $r=1,02$.\n",
    "A l'aide d'une boucle \"tant que\" construis une programme permettant de connaître le plus petit terme k tel que $u_k>2000$"
   ]
  },
  {
   "cell_type": "code",
   "execution_count": null,
   "metadata": {},
   "outputs": [],
   "source": []
  },
  {
   "cell_type": "markdown",
   "metadata": {},
   "source": [
    "Afin de voir si le programme calcule correctement ce que l'on veut, on peut lui faire afficher les résultats intermédiaires : "
   ]
  },
  {
   "cell_type": "code",
   "execution_count": null,
   "metadata": {},
   "outputs": [],
   "source": []
  }
 ],
 "metadata": {
  "kernelspec": {
   "display_name": "Python 3",
   "language": "python",
   "name": "python3"
  },
  "language_info": {
   "codemirror_mode": {
    "name": "ipython",
    "version": 3
   },
   "file_extension": ".py",
   "mimetype": "text/x-python",
   "name": "python",
   "nbconvert_exporter": "python",
   "pygments_lexer": "ipython3",
   "version": "3.7.3"
  }
 },
 "nbformat": 4,
 "nbformat_minor": 2
}
