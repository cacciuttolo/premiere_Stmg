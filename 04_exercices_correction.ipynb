{
 "cells": [
  {
   "cell_type": "markdown",
   "metadata": {},
   "source": [
    "## PYTHON RAPPELS : exercices ![icone python](https://upload.wikimedia.org/wikipedia/commons/0/0a/Python.svg)"
   ]
  },
  {
   "cell_type": "markdown",
   "metadata": {},
   "source": [
    "## exercice 1\n",
    "Écris la fonction Moyenne(a,b,c,d) qui renvoie la moyenne des nombres a,b,c et d."
   ]
  },
  {
   "cell_type": "code",
   "execution_count": 1,
   "metadata": {},
   "outputs": [],
   "source": [
    "def Moyenne(a,b,c,d):\n",
    "    return ((a+b+c+d)/4)"
   ]
  },
  {
   "cell_type": "code",
   "execution_count": 2,
   "metadata": {},
   "outputs": [
    {
     "data": {
      "text/plain": [
       "10.0"
      ]
     },
     "execution_count": 2,
     "metadata": {},
     "output_type": "execute_result"
    }
   ],
   "source": [
    "#test\n",
    "Moyenne(0,1,19,20)"
   ]
  },
  {
   "cell_type": "markdown",
   "metadata": {},
   "source": [
    "## exercice 2. Fonction, instruction conditionnelle\n",
    "Reprenons l'exercice 1 : la note c est facultative, elle ne compte que si elle augmente la moyenne.\n",
    "Écris la fonction MoyenneFac(a,b,c,d) qui renvoie la moyenne en tenant compte du fait que la note c est facultative.\n",
    "On pourra utiliser la fonction de l'exercice 2 : on peut appeler cette fonction à l'intérieur de la fonction MoyenneFac(a,b,c,d)."
   ]
  },
  {
   "cell_type": "code",
   "execution_count": 3,
   "metadata": {},
   "outputs": [],
   "source": [
    "def MoyenneFac(a,b,c,d):\n",
    "    if Moyenne(a,b,c,d)>(a+b+d)/3:\n",
    "        return Moyenne(a,b,c,d)\n",
    "    else:\n",
    "        return ((a+b+d)/3)"
   ]
  },
  {
   "cell_type": "code",
   "execution_count": 4,
   "metadata": {},
   "outputs": [
    {
     "data": {
      "text/plain": [
       "12.5"
      ]
     },
     "execution_count": 4,
     "metadata": {},
     "output_type": "execute_result"
    }
   ],
   "source": [
    "MoyenneFac(10,10,20,10)"
   ]
  },
  {
   "cell_type": "code",
   "execution_count": 5,
   "metadata": {},
   "outputs": [
    {
     "data": {
      "text/plain": [
       "10.0"
      ]
     },
     "execution_count": 5,
     "metadata": {},
     "output_type": "execute_result"
    }
   ],
   "source": [
    "MoyenneFac(10,10,5,10)"
   ]
  },
  {
   "cell_type": "markdown",
   "metadata": {},
   "source": [
    "## exercice 3. fonction – boucle for\n",
    "On considère la fonction $f(x)=3x^2+2x-1$ \n",
    "\n",
    "**1.** Écris la fonction fonc(x) qui retourne l'image de x par $f$.\n",
    "Par exemple, fonc(2) devrait renvoyer $f(2)$, c'est à dire 15."
   ]
  },
  {
   "cell_type": "code",
   "execution_count": 6,
   "metadata": {},
   "outputs": [],
   "source": [
    "def fonc(x):\n",
    "    return 3*x**2+2*x-1"
   ]
  },
  {
   "cell_type": "code",
   "execution_count": 7,
   "metadata": {},
   "outputs": [
    {
     "data": {
      "text/plain": [
       "15"
      ]
     },
     "execution_count": 7,
     "metadata": {},
     "output_type": "execute_result"
    }
   ],
   "source": [
    "fonc(2)"
   ]
  },
  {
   "cell_type": "markdown",
   "metadata": {},
   "source": [
    "**2.** On considère deux entiers positifs Xmin et Xmax. \n",
    "\n",
    "Écris une fonction Table(Xmin,Xmax) qui affiche les images de $f$ pour toutes les valeurs entières entre Xmin et Xmax.\n",
    "\n",
    "*indication* : pour calculer $x^2$, on écrit en Python $x**2$ ; pour calculer 2x, il faut écrire $2*x$"
   ]
  },
  {
   "cell_type": "code",
   "execution_count": 8,
   "metadata": {},
   "outputs": [],
   "source": [
    "def Table(Xmin,Xmax):\n",
    "    for i in range (Xmin,Xmax+1):\n",
    "        print(\"f(\",i,\")=\",fonc(i))"
   ]
  },
  {
   "cell_type": "code",
   "execution_count": 9,
   "metadata": {},
   "outputs": [
    {
     "name": "stdout",
     "output_type": "stream",
     "text": [
      "f( 0 )= -1\n",
      "f( 1 )= 4\n",
      "f( 2 )= 15\n",
      "f( 3 )= 32\n",
      "f( 4 )= 55\n",
      "f( 5 )= 84\n"
     ]
    }
   ],
   "source": [
    "Table(0,5)"
   ]
  },
  {
   "cell_type": "markdown",
   "metadata": {},
   "source": [
    "## exerice 4. fonction - boucle while\n",
    "$f$ est la même fonction que dans l'exercice 9.\n",
    "Cette fois, Xmin, Xmax et Pas sont trois nombres réels. Écris une fonction Table(Xmin,Xmax,Pas) qui affiche les images de  pour x allant de Xmin à Xmax avec un pas égal à Pas.\n",
    "Par exemple, Table(2.5,5,0.5) doit afficher $f(2,5),f(3),f(3,5),f(4),f(4,5)$  et $f(5)$  "
   ]
  },
  {
   "cell_type": "code",
   "execution_count": 10,
   "metadata": {},
   "outputs": [],
   "source": [
    "def Table(Xmin,Xmax,Pas):\n",
    "    i=Xmin\n",
    "    while i<=Xmax:\n",
    "        print(\"f(\",i,\")=\",fonc(i))\n",
    "        i=i+Pas"
   ]
  },
  {
   "cell_type": "code",
   "execution_count": 11,
   "metadata": {},
   "outputs": [
    {
     "name": "stdout",
     "output_type": "stream",
     "text": [
      "f( 2.5 )= 22.75\n",
      "f( 3.0 )= 32.0\n",
      "f( 3.5 )= 42.75\n",
      "f( 4.0 )= 55.0\n",
      "f( 4.5 )= 68.75\n",
      "f( 5.0 )= 84.0\n"
     ]
    }
   ],
   "source": [
    "Table(2.5,5,0.5)"
   ]
  },
  {
   "cell_type": "markdown",
   "metadata": {},
   "source": [
    "## exercice 5 * fonction - boucle - prise d'initiative\n",
    "Je place la somme $s_0=2000$ euros  sur un compte rémunéré à 1 % par an. (Chaque année, la somme restée sur le compte augmente de 1%). On note $s_n$ la somme sur mon compte au bout de n années.\n",
    "À l'aide d'un programme, détermine quelle sera la somme obtenue au bout de 10 ans (arrondie au centime).\n"
   ]
  },
  {
   "cell_type": "code",
   "execution_count": 12,
   "metadata": {},
   "outputs": [
    {
     "name": "stdout",
     "output_type": "stream",
     "text": [
      "1 2142.0\n",
      "2 2294.082\n",
      "3 2456.9618219999998\n",
      "4 2631.4061113619996\n",
      "5 2818.2359452687015\n",
      "6 3018.3306973827794\n",
      "7 3232.6321768969565\n",
      "8 3462.14906145664\n",
      "9 3707.9616448200613\n",
      "10 3971.2269216022855\n"
     ]
    }
   ],
   "source": [
    "S=2000\n",
    "i=0\n",
    "while i<10:\n",
    "    S=S*1.071\n",
    "    i=i+1\n",
    "    print(i,S)"
   ]
  },
  {
   "cell_type": "markdown",
   "metadata": {},
   "source": [
    "## exercice 6***  fonction - boucle - prise d'initiative\n",
    "Je veux placer la somme $s_0=2000$ euros sur un compte rémunéré . Construire un programme afin de répondre à la question suivante : quel doit être le taux de rémunération du compte exprimé en pourcentage et arrondi au dixième pour que la somme sur mon compte la 10ème année,$s_{10}$,  soit le double de la somme de départ $s_0$ ?\n",
    "\n"
   ]
  },
  {
   "cell_type": "code",
   "execution_count": 13,
   "metadata": {},
   "outputs": [
    {
     "name": "stdout",
     "output_type": "stream",
     "text": [
      "7.19999999999999\n"
     ]
    }
   ],
   "source": [
    "def S10(taux):\n",
    "    S=2000\n",
    "    i=0\n",
    "    while i<10:\n",
    "        S=S*(1+taux/100)\n",
    "        i=i+1\n",
    "        #print(i,S)\n",
    "    return(S)\n",
    "\n",
    "def Taux(somme):\n",
    "    T=0\n",
    "    while S10(T)<somme:\n",
    "        T=T+0.1\n",
    "    return T\n",
    "\n",
    "print(Taux(4000))"
   ]
  }
 ],
 "metadata": {
  "kernelspec": {
   "display_name": "Python 3",
   "language": "python",
   "name": "python3"
  },
  "language_info": {
   "codemirror_mode": {
    "name": "ipython",
    "version": 3
   },
   "file_extension": ".py",
   "mimetype": "text/x-python",
   "name": "python",
   "nbconvert_exporter": "python",
   "pygments_lexer": "ipython3",
   "version": "3.7.3"
  }
 },
 "nbformat": 4,
 "nbformat_minor": 2
}
