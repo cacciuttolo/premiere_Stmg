{
 "cells": [
  {
   "cell_type": "markdown",
   "metadata": {},
   "source": [
    "## PYTHON : LES LISTES seconde partie ![icone python](https://upload.wikimedia.org/wikipedia/commons/0/0a/Python.svg)"
   ]
  },
  {
   "cell_type": "markdown",
   "metadata": {},
   "source": [
    "# Autres manières de créer une liste.\n",
    "## Par ajouts successifs.\n",
    "On commence avec une liste vide, puis on ajoute un à un les élèments.\n",
    "Pour cela, on écrit le nom de la liste suivi d'un point puis entre parenthèse du nouvel élément."
   ]
  },
  {
   "cell_type": "code",
   "execution_count": null,
   "metadata": {},
   "outputs": [],
   "source": [
    "L=[] #L est une liste viste"
   ]
  },
  {
   "cell_type": "code",
   "execution_count": null,
   "metadata": {},
   "outputs": [],
   "source": [
    "L.append(\"Alice\")\n",
    "print(L)"
   ]
  },
  {
   "cell_type": "code",
   "execution_count": null,
   "metadata": {},
   "outputs": [],
   "source": [
    "L.append(\"Bilal\")\n",
    "print(L)"
   ]
  },
  {
   "cell_type": "markdown",
   "metadata": {},
   "source": [
    "On peut ainsi créer des listes terme à terme. Cela permet entre autre de créer des listes de termes d'une suite.\n",
    "\n",
    "Par exemple, on veut créer la liste des 10 premiers termes de la suite définie par $u_{n}=2n^2+3$ :"
   ]
  },
  {
   "cell_type": "code",
   "execution_count": null,
   "metadata": {},
   "outputs": [],
   "source": [
    "suite=[]  #on crée la liste \"suite\", vide pour l'instant\n",
    "for i in range(10):\n",
    "    suite.append(2*i**2+3)\n",
    "print(suite)\n"
   ]
  },
  {
   "cell_type": "markdown",
   "metadata": {},
   "source": [
    "## Créer une liste en compréhension \n",
    "Cette méthode permet de créer rapidement une liste par une propriété caractéritique ou un test.\n",
    "**exemples :** exécute les cellules suivantes :  "
   ]
  },
  {
   "cell_type": "code",
   "execution_count": null,
   "metadata": {},
   "outputs": [],
   "source": [
    "Liste1=[i for i in range(10)]\n",
    "print(Liste1)"
   ]
  },
  {
   "cell_type": "code",
   "execution_count": null,
   "metadata": {},
   "outputs": [],
   "source": [
    "Liste2=[2*i**2+3 for i in range(10)]\n",
    "print(Liste2)"
   ]
  },
  {
   "cell_type": "code",
   "execution_count": null,
   "metadata": {},
   "outputs": [],
   "source": [
    "Liste3=[i for i in range(100) if i%5==0]\n",
    "print(Liste3)"
   ]
  },
  {
   "cell_type": "markdown",
   "metadata": {},
   "source": [
    "*rappel*: l'opération \"a%b\" calcule le reste de la division euclidienne de a par b."
   ]
  },
  {
   "cell_type": "markdown",
   "metadata": {},
   "source": [
    "# exercices\n",
    "\n",
    "## exercice 1. par ajouts successifs. \n",
    "Génère par ajouts successifs la liste L1 des nombres entiers de 10 à 20.   "
   ]
  },
  {
   "cell_type": "code",
   "execution_count": null,
   "metadata": {},
   "outputs": [],
   "source": [
    "L1=[]"
   ]
  },
  {
   "cell_type": "markdown",
   "metadata": {},
   "source": [
    "## exercice 2. par ajouts successifs.\n",
    "Génère la liste des 20 premiers nombres pairs (on commence à 0)."
   ]
  },
  {
   "cell_type": "code",
   "execution_count": null,
   "metadata": {},
   "outputs": [],
   "source": [
    "L2=[]"
   ]
  },
  {
   "cell_type": "markdown",
   "metadata": {},
   "source": [
    "## exercice 3. créer une liste en compréhension.\n",
    "Génère en compréhension la liste L3 des entiers successifs entre 5 et 19."
   ]
  },
  {
   "cell_type": "code",
   "execution_count": null,
   "metadata": {},
   "outputs": [],
   "source": [
    "L3="
   ]
  },
  {
   "cell_type": "markdown",
   "metadata": {},
   "source": [
    "## exercice 4. créer une liste en compréhension.\n",
    "Génère en compréhension la liste L4 des nombres pairs inférieurs strictement à 100."
   ]
  },
  {
   "cell_type": "code",
   "execution_count": null,
   "metadata": {},
   "outputs": [],
   "source": [
    "L4="
   ]
  },
  {
   "cell_type": "markdown",
   "metadata": {},
   "source": [
    "## exercice 5. termes d'une suite.\n",
    "On considère la suite définie par $u_n=5n-3$. Génère la liste Suite1 des 15 premiers termes de la suite, de $u_0$ à $u_{14}$. \n"
   ]
  },
  {
   "cell_type": "code",
   "execution_count": null,
   "metadata": {},
   "outputs": [],
   "source": [
    "Suite1="
   ]
  },
  {
   "cell_type": "markdown",
   "metadata": {},
   "source": [
    "## exercice 6. suite définie par récurrence\n",
    "On considère la suite définie par $u_0=2$ et   $u_{n+1}=2u_n+1$. Génère la liste Suite2 des 10 premiers termes de la suite. \n"
   ]
  },
  {
   "cell_type": "code",
   "execution_count": null,
   "metadata": {},
   "outputs": [],
   "source": []
  }
 ],
 "metadata": {
  "kernelspec": {
   "display_name": "Python 3",
   "language": "python",
   "name": "python3"
  },
  "language_info": {
   "codemirror_mode": {
    "name": "ipython",
    "version": 3
   },
   "file_extension": ".py",
   "mimetype": "text/x-python",
   "name": "python",
   "nbconvert_exporter": "python",
   "pygments_lexer": "ipython3",
   "version": "3.7.3"
  }
 },
 "nbformat": 4,
 "nbformat_minor": 2
}
