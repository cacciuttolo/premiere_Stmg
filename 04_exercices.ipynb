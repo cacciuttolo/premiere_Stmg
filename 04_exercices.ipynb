{
 "cells": [
  {
   "cell_type": "markdown",
   "metadata": {},
   "source": [
    "## PYTHON RAPPELS : exercices ![icone python](https://upload.wikimedia.org/wikipedia/commons/0/0a/Python.svg)"
   ]
  },
  {
   "cell_type": "markdown",
   "metadata": {},
   "source": [
    "## exercice 1\n",
    "Écris la fonction Moyenne(a,b,c,d) qui renvoie la moyenne des nombres a,b,c et d."
   ]
  },
  {
   "cell_type": "code",
   "execution_count": null,
   "metadata": {},
   "outputs": [],
   "source": []
  },
  {
   "cell_type": "markdown",
   "metadata": {},
   "source": [
    "## exercice 2. Fonction, instruction conditionnelle\n",
    "Reprenons l'exercice 1 : la note c est facultative, elle ne compte que si elle augmente la moyenne.\n",
    "Écris la fonction MoyenneFac(a,b,c,d) qui renvoie la moyenne en tenant compte du fait que la note c est facultative.\n",
    "On pourra utiliser la fonction de l'exercice 2 : on peut appeler cette fonction à l'intérieur de la fonction MoyenneFac(a,b,c,d)."
   ]
  },
  {
   "cell_type": "code",
   "execution_count": null,
   "metadata": {},
   "outputs": [],
   "source": []
  },
  {
   "cell_type": "markdown",
   "metadata": {},
   "source": [
    "## exercice 3. fonction – boucle for\n",
    "On considère la fonction $f(x)=3x^2+2x-1$ \n",
    "\n",
    "**1.** Écris la fonction fonc(x) qui retourne l'image de x par $f$.\n",
    "Par exemple, fonc(2) devrait renvoyer $f(2)$, c'est à dire 15."
   ]
  },
  {
   "cell_type": "code",
   "execution_count": null,
   "metadata": {},
   "outputs": [],
   "source": []
  },
  {
   "cell_type": "markdown",
   "metadata": {},
   "source": [
    "**2.** On considère deux entiers positifs Xmin et Xmax. \n",
    "\n",
    "Écris une fonction Table(Xmin,Xmax) qui affiche les images de $f$ pour toutes les valeurs entières entre Xmin et Xmax.\n",
    "\n",
    "*indication* : pour calculer $x^2$, on écrit en Python $x**2$ ; pour calculer 2x, il faut écrire $2*x$"
   ]
  },
  {
   "cell_type": "code",
   "execution_count": null,
   "metadata": {},
   "outputs": [],
   "source": []
  },
  {
   "cell_type": "markdown",
   "metadata": {},
   "source": [
    "## exerice 4. fonction - boucle while\n",
    "$f$ est la même fonction que dans l'exercice 9.\n",
    "Cette fois, Xmin, Xmax et Pas sont trois nombres réels. Écris une fonction Table(Xmin,Xmax,Pas) qui affiche les images de  pour x allant de Xmin à Xmax avec un pas égal à Pas.\n",
    "Par exemple, Table(2.5,5,0.5) doit afficher $f(2,5),f(3),f(3,5),f(4),f(4,5)$  et $f(5)$  "
   ]
  },
  {
   "cell_type": "code",
   "execution_count": null,
   "metadata": {},
   "outputs": [],
   "source": []
  },
  {
   "cell_type": "markdown",
   "metadata": {},
   "source": [
    "## exercice 5 * fonction - boucle - prise d'initiative\n",
    "Je place la somme $s_0=2000$ euros  sur un compte rémunéré à 1 % par an. (Chaque année, la somme restée sur le compte augmente de 1%). On note $s_n$ la somme sur mon compte au bout de n années.\n",
    "À l'aide d'un programme, détermine quelle sera la somme obtenue au bout de 10 ans (arrondie au centime).\n"
   ]
  },
  {
   "cell_type": "code",
   "execution_count": null,
   "metadata": {},
   "outputs": [],
   "source": []
  },
  {
   "cell_type": "markdown",
   "metadata": {},
   "source": [
    "## exercice 6***  fonction - boucle - prise d'initiative\n",
    "Je veux placer la somme $s_0=2000$ euros sur un compte rémunéré . Construire un programme afin de répondre à la question suivante : quel doit être le taux de rémunération du compte exprimé en pourcentage et arrondi au dixième pour que la somme sur mon compte la 10ème année,$s_{10}$,  soit le double de la somme de départ $s_0$ ?\n",
    "\n"
   ]
  },
  {
   "cell_type": "code",
   "execution_count": null,
   "metadata": {},
   "outputs": [],
   "source": []
  }
 ],
 "metadata": {
  "kernelspec": {
   "display_name": "Python 3",
   "language": "python",
   "name": "python3"
  },
  "language_info": {
   "codemirror_mode": {
    "name": "ipython",
    "version": 3
   },
   "file_extension": ".py",
   "mimetype": "text/x-python",
   "name": "python",
   "nbconvert_exporter": "python",
   "pygments_lexer": "ipython3",
   "version": "3.7.3"
  }
 },
 "nbformat": 4,
 "nbformat_minor": 2
}
