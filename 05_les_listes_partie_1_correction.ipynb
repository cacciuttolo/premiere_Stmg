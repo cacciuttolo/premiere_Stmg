{
 "cells": [
  {
   "cell_type": "markdown",
   "metadata": {},
   "source": [
    "## PYTHON : LES LISTES ![icone python](https://upload.wikimedia.org/wikipedia/commons/0/0a/Python.svg)"
   ]
  },
  {
   "cell_type": "markdown",
   "metadata": {},
   "source": [
    "## Rappels : les types usuels de variables.\n",
    "Voici les différents type de variables les plus souvent rencontrés :\n",
    "- les entiers, int en python : 4\n",
    "- les nombres réels, notés float en python\n",
    "- les chaînes de caractère, appelées str\n",
    "- les booléens, bool en python, qui ne peuvent prendre que deux valeurs : True ou False\n",
    "\n",
    "Pour connaître le type d'une variable en Python, il suffit d'utiliser l'instruction *type* : exécute les cellules suivantes."
   ]
  },
  {
   "cell_type": "code",
   "execution_count": 1,
   "metadata": {},
   "outputs": [
    {
     "data": {
      "text/plain": [
       "int"
      ]
     },
     "execution_count": 1,
     "metadata": {},
     "output_type": "execute_result"
    }
   ],
   "source": [
    "a=5\n",
    "type(a)"
   ]
  },
  {
   "cell_type": "code",
   "execution_count": 2,
   "metadata": {},
   "outputs": [
    {
     "data": {
      "text/plain": [
       "float"
      ]
     },
     "execution_count": 2,
     "metadata": {},
     "output_type": "execute_result"
    }
   ],
   "source": [
    "b=3.0\n",
    "type(b)"
   ]
  },
  {
   "cell_type": "code",
   "execution_count": 3,
   "metadata": {},
   "outputs": [
    {
     "data": {
      "text/plain": [
       "str"
      ]
     },
     "execution_count": 3,
     "metadata": {},
     "output_type": "execute_result"
    }
   ],
   "source": [
    "c=\"Salut !\"\n",
    "type(c)"
   ]
  },
  {
   "cell_type": "code",
   "execution_count": 4,
   "metadata": {},
   "outputs": [
    {
     "data": {
      "text/plain": [
       "bool"
      ]
     },
     "execution_count": 4,
     "metadata": {},
     "output_type": "execute_result"
    }
   ],
   "source": [
    "d=True\n",
    "type(d)"
   ]
  },
  {
   "cell_type": "markdown",
   "metadata": {},
   "source": [
    "# Qu'est-ce qu'une liste ?\n",
    "**définition:** Une liste en informatique est une collection ordonnée d’éléments (entiers, flottants, chaînes de caractères, booléens…) séparés par des virgules et mis entre crochets.\n",
    "\n",
    "**exemples:** \n",
    "- L1=[12;13;9;3]. L1 est une liste d'entiers\n",
    "- L2=[\"Alex\",\"Bob\",\"Clea\",\"Doudou\"]. L2 est une liste de chaînes de caractères\n",
    "- L3=[\"Lennon\",\"John\",1940,\"Liverpool\",1980,\"New York\"]. L3 est une liste mixte.  \n",
    "\n",
    "**remarque :** On comprend rapidement l'intérêt des listes qui vont permettre de stocker des données en lien : L1 peut correspondre à une liste de nombres, L2 à une liste de noms, L3 à une liste de données sur une personne… Les listes sont très utilisées en informatique, en particulier sur internet, pour organiser et stocker des données."
   ]
  },
  {
   "cell_type": "markdown",
   "metadata": {},
   "source": [
    "## Créer une liste par extension.\n",
    "On peut créer une liste simplement, en écrivant l’ensemble de ses éléments : on dit qu'on que la liste est générée en **extension**.\n",
    "\n",
    "exemple : "
   ]
  },
  {
   "cell_type": "code",
   "execution_count": 16,
   "metadata": {},
   "outputs": [],
   "source": [
    "jours=[\"lundi\",\"mardi\",\"mercredi\",\"jeudi\",\"vendredi\",\"samedi\",\"dimanche\"]"
   ]
  },
  {
   "cell_type": "code",
   "execution_count": 11,
   "metadata": {},
   "outputs": [
    {
     "data": {
      "text/plain": [
       "list"
      ]
     },
     "execution_count": 11,
     "metadata": {},
     "output_type": "execute_result"
    }
   ],
   "source": [
    "type(jours)"
   ]
  },
  {
   "cell_type": "markdown",
   "metadata": {},
   "source": [
    "## Manipulation de listes.\n",
    "### afficher une terme d'une liste.\n",
    "Pour accéder à un terme de la liste, il faut connaître son indice. Attention, la numérotation commence à 0 : "
   ]
  },
  {
   "cell_type": "code",
   "execution_count": 12,
   "metadata": {},
   "outputs": [
    {
     "data": {
      "text/plain": [
       "'Mercredi'"
      ]
     },
     "execution_count": 12,
     "metadata": {},
     "output_type": "execute_result"
    }
   ],
   "source": [
    "jours[2]"
   ]
  },
  {
   "cell_type": "markdown",
   "metadata": {},
   "source": [
    "### connaître le nombre d'éléments d'une liste (sa \"longueur\")\n",
    "On utilise l'instruction *len(liste)*."
   ]
  },
  {
   "cell_type": "code",
   "execution_count": 13,
   "metadata": {},
   "outputs": [
    {
     "data": {
      "text/plain": [
       "7"
      ]
     },
     "execution_count": 13,
     "metadata": {},
     "output_type": "execute_result"
    }
   ],
   "source": [
    "len(jours)"
   ]
  },
  {
   "cell_type": "markdown",
   "metadata": {},
   "source": [
    "**remarques :** \n",
    "- il y a bien 7 éléments dans cette liste, le premier est jours[0], le dernier jours[6]\n",
    "- cette information est importante pour éviter de se tromper et de créer des erreurs qui stoppent le programme en appelant un terme qui n'existe pas. Exemple :"
   ]
  },
  {
   "cell_type": "code",
   "execution_count": 14,
   "metadata": {},
   "outputs": [
    {
     "ename": "IndexError",
     "evalue": "list index out of range",
     "output_type": "error",
     "traceback": [
      "\u001b[0;31m---------------------------------------------------------------------------\u001b[0m",
      "\u001b[0;31mIndexError\u001b[0m                                Traceback (most recent call last)",
      "\u001b[0;32m<ipython-input-14-5dc39dba07b6>\u001b[0m in \u001b[0;36m<module>\u001b[0;34m\u001b[0m\n\u001b[0;32m----> 1\u001b[0;31m \u001b[0mjours\u001b[0m\u001b[0;34m[\u001b[0m\u001b[0;36m7\u001b[0m\u001b[0;34m]\u001b[0m\u001b[0;34m\u001b[0m\u001b[0;34m\u001b[0m\u001b[0m\n\u001b[0m",
      "\u001b[0;31mIndexError\u001b[0m: list index out of range"
     ]
    }
   ],
   "source": [
    "jours[7]"
   ]
  },
  {
   "cell_type": "markdown",
   "metadata": {},
   "source": [
    "IndexError: list index out of range\n",
    "\n",
    "signifie que l'index donné (ici 7) est en dehors de l'échelle autorisée (ici de 0 à 6)"
   ]
  },
  {
   "cell_type": "markdown",
   "metadata": {},
   "source": [
    "# exercices\n",
    "\n",
    "## exercice 1.\n",
    "**1.** Fabrique la liste appelée *mois* qui contient la liste des douze mois de l'année, dans l'ordre chronologique en commençant par \"Janvier\"   "
   ]
  },
  {
   "cell_type": "code",
   "execution_count": 15,
   "metadata": {},
   "outputs": [],
   "source": [
    "mois=[\"janvier\",\"février\",\"mars\",\"avril\",\"mai\",\"juin\",\"juillet\",\"août\",\"septembre\",\"octobre\",\"novembre\",\"décembre\"]"
   ]
  },
  {
   "cell_type": "markdown",
   "metadata": {},
   "source": [
    "**2.** Que doit-on écrire pour afficher \"septembre\" ?"
   ]
  },
  {
   "cell_type": "code",
   "execution_count": 17,
   "metadata": {},
   "outputs": [
    {
     "data": {
      "text/plain": [
       "'septembre'"
      ]
     },
     "execution_count": 17,
     "metadata": {},
     "output_type": "execute_result"
    }
   ],
   "source": [
    "mois[8]"
   ]
  },
  {
   "cell_type": "markdown",
   "metadata": {},
   "source": [
    "**3.** Même question avec \"janvier\"."
   ]
  },
  {
   "cell_type": "code",
   "execution_count": 18,
   "metadata": {},
   "outputs": [
    {
     "data": {
      "text/plain": [
       "'janvier'"
      ]
     },
     "execution_count": 18,
     "metadata": {},
     "output_type": "execute_result"
    }
   ],
   "source": [
    "mois[0]"
   ]
  },
  {
   "cell_type": "markdown",
   "metadata": {},
   "source": [
    "**4.** Pareil avec \"décembre\""
   ]
  },
  {
   "cell_type": "code",
   "execution_count": 19,
   "metadata": {},
   "outputs": [
    {
     "data": {
      "text/plain": [
       "'décembre'"
      ]
     },
     "execution_count": 19,
     "metadata": {},
     "output_type": "execute_result"
    }
   ],
   "source": [
    "mois[11]"
   ]
  },
  {
   "cell_type": "markdown",
   "metadata": {},
   "source": [
    "## exercice 2.\n",
    "On considère les deux listes suivantes : <br>\n",
    "eleves=[\"Alice\",\"Bob\",\"Clea\",\"Doudou\"]<br>\n",
    "notes=[12,15,11,17]<br>\n",
    "Nous avons donc une liste de quatre élèves et une liste contenant leurs notes respectives à un contrôle.<br>\n",
    "exécute le programme suivant :"
   ]
  },
  {
   "cell_type": "code",
   "execution_count": 22,
   "metadata": {},
   "outputs": [
    {
     "name": "stdout",
     "output_type": "stream",
     "text": [
      "Alice a obtenu la note 12\n",
      "Bob a obtenu la note 15\n",
      "Clea a obtenu la note 11\n",
      "Doudou a obtenu la note 17\n"
     ]
    }
   ],
   "source": [
    "eleves=[\"Alice\",\"Bob\",\"Clea\",\"Doudou\"]\n",
    "notes=[12,15,11,17]\n",
    "for i in range(len(eleves)):\n",
    "    print(eleves[i],\"a obtenu la note\",notes[i])"
   ]
  },
  {
   "cell_type": "markdown",
   "metadata": {},
   "source": [
    "**1.** À quoi est égal len(eleves) ?<br>\n",
    "**2.** Quelle est la première valeur de i ?<br>\n",
    "**3.** Quelle est la dernière valeur de i ?<br>"
   ]
  },
  {
   "cell_type": "markdown",
   "metadata": {},
   "source": [
    "## exercice 3.\n",
    "Voici la liste des présidents de la Vème république ainsi que l'année de leur prise de fonction : <br>\n",
    "Charles de GAULLE 1959<br>\n",
    "Georges POMPIDOU 1969<br>\n",
    "Valéry GISCARD D'ESTAING 1974<br>\n",
    "François MITTERRAND 1981<br>\n",
    "Jacques CHIRAC 1995<br>\n",
    "Nicolas SARKOZY 2007<br>\n",
    "François HOLLANDE 2012<br>\n",
    "Emmanuel MACRON 2017<br>\n",
    "\n",
    "En s'inspirant du programme de l'exerice 2, crée une liste *présidents* puis une liste *années* et construis un programme permettant d'afficher pour chaque personne : \"*M. ... a pris ses fonctions de président de la république en ...*\""
   ]
  },
  {
   "cell_type": "code",
   "execution_count": 24,
   "metadata": {},
   "outputs": [
    {
     "name": "stdout",
     "output_type": "stream",
     "text": [
      "M. Charles de GAULLE a pris ses fonctions de président de la république en 1959\n",
      "M. Georges POMPIDOU a pris ses fonctions de président de la république en 1969\n",
      "M. Valéry GISCARD D'ESTAING a pris ses fonctions de président de la république en 1974\n",
      "M. François MITTERRAND a pris ses fonctions de président de la république en 1981\n",
      "M. Jacques CHIRAC a pris ses fonctions de président de la république en 1995\n",
      "M. Nicolas SARKOZY a pris ses fonctions de président de la république en 2007\n",
      "M. François HOLLANDE a pris ses fonctions de président de la république en 2012\n",
      "M. Emmanuel MACRON a pris ses fonctions de président de la république en 2017\n"
     ]
    }
   ],
   "source": [
    "présidents=[\"Charles de GAULLE\",\"Georges POMPIDOU\",\"Valéry GISCARD D'ESTAING\",\"François MITTERRAND\",\"Jacques CHIRAC\",\"Nicolas SARKOZY\",\"François HOLLANDE\",\"Emmanuel MACRON\"]\n",
    "années=[1959,1969,1974,1981,1995,2007,2012,2017]\n",
    "for i in range(len(présidents)):\n",
    "    print(\"M.\",présidents[i],\"a pris ses fonctions de président de la république en\",années[i])"
   ]
  }
 ],
 "metadata": {
  "kernelspec": {
   "display_name": "Python 3",
   "language": "python",
   "name": "python3"
  },
  "language_info": {
   "codemirror_mode": {
    "name": "ipython",
    "version": 3
   },
   "file_extension": ".py",
   "mimetype": "text/x-python",
   "name": "python",
   "nbconvert_exporter": "python",
   "pygments_lexer": "ipython3",
   "version": "3.7.3"
  }
 },
 "nbformat": 4,
 "nbformat_minor": 2
}
