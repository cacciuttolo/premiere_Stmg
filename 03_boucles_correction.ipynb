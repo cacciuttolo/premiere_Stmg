{
 "cells": [
  {
   "cell_type": "markdown",
   "metadata": {},
   "source": [
    "## PYTHON RAPPELS : BOUCLES ![icone python](https://upload.wikimedia.org/wikipedia/commons/0/0a/Python.svg)"
   ]
  },
  {
   "cell_type": "markdown",
   "metadata": {},
   "source": [
    "#  Comment travailler avec un notebook Jupiter (ce document) ?\n",
    "Un notebook jupyter est composé de cellules : \n",
    "- certaines sont des cellules de texte (comme celle-ci, par exemple)\n",
    "- d'autres sont des cellules de code, où on écrit du langage python : on les reconnaît car il est écrit *Entrée [ ]* devant.\n",
    "\n",
    "\n",
    "On peut écrire dans chacune d'elle. Pour valider une cellule (**indispensable pour exécuter un programme python**), on peut soit utiliser le raccourci clavier Ctrl+Entrée, soit cliquer sur le bouton Exécuter. On peut exécuter plusieurs fois la cellule, si on a corrigé ou modifié un programme par exemple.\n",
    "\n",
    "\n",
    "**remarque :** dans un programme python, on peut utiliser le symbole # devant une ligne : cette ligne devient alors un commentaire, elle n'est pas exécutée par Python. \n",
    "\n",
    "\n",
    "Une fois le travail terminé, vous allez le télécharger pour ensuite l'envoyer au professeur.\n",
    "Pour cela, allez dans Fichier, Télécharger au format, puis HTML (.html)\n",
    "\n",
    "Le document téléchargé sera lisible par un navigateur internet, mais ne pourra pas être modifié."
   ]
  },
  {
   "cell_type": "markdown",
   "metadata": {},
   "source": [
    "# Les boucles\n",
    "Lorsqu’on veut répéter plusieurs fois une action similaire, on utilise une boucle.\n",
    "Par exemple, pour écrire les résultats d'une table de multiplication, pour calculer les termes d'une suite, …\n",
    "\n",
    "## La boucle pour / for\n",
    "Lorsqu'on sait exactement combien de fois on doit répéter l'action, on utilise une boucle bornée, à l'aide de l'instruction for."
   ]
  },
  {
   "cell_type": "code",
   "execution_count": 1,
   "metadata": {},
   "outputs": [
    {
     "name": "stdout",
     "output_type": "stream",
     "text": [
      "0\n",
      "1\n",
      "2\n",
      "3\n",
      "4\n",
      "5\n",
      "6\n",
      "7\n",
      "8\n",
      "9\n"
     ]
    }
   ],
   "source": [
    "for i in range (10):\n",
    "    print(i)"
   ]
  },
  {
   "cell_type": "markdown",
   "metadata": {},
   "source": [
    "Dans ce programme, i est une variable qui va à chaque \"tour\" dans la boucle changer de valeur : in range(10) signifie que i va commencer par 0 et prendre toutes les valeurs entières jusqu'à 9.\n",
    "\n",
    "On n'est pas obligé de commencer à i=0, \n",
    "par exemple :"
   ]
  },
  {
   "cell_type": "code",
   "execution_count": 2,
   "metadata": {},
   "outputs": [
    {
     "name": "stdout",
     "output_type": "stream",
     "text": [
      "3\n",
      "4\n",
      "5\n",
      "6\n",
      "7\n",
      "8\n",
      "9\n"
     ]
    }
   ],
   "source": [
    "for i in range (3,10):\n",
    "    print(i)"
   ]
  },
  {
   "cell_type": "markdown",
   "metadata": {},
   "source": [
    "**exemple de boucle for.**\n",
    "\n",
    "Je veux créer une fonction qui affiche la table de multiplication de l'entier n de nx1 à nx10 :"
   ]
  },
  {
   "cell_type": "code",
   "execution_count": 3,
   "metadata": {},
   "outputs": [
    {
     "name": "stdout",
     "output_type": "stream",
     "text": [
      "7\n",
      "14\n",
      "21\n",
      "28\n",
      "35\n",
      "42\n",
      "49\n",
      "56\n",
      "63\n",
      "70\n"
     ]
    }
   ],
   "source": [
    "def table(n):\n",
    "    for i in range (1,11):\n",
    "        print(n*i)\n",
    "table (7)"
   ]
  },
  {
   "cell_type": "markdown",
   "metadata": {},
   "source": [
    "On peut obtenir un affichage plus clair : "
   ]
  },
  {
   "cell_type": "code",
   "execution_count": 5,
   "metadata": {},
   "outputs": [
    {
     "name": "stdout",
     "output_type": "stream",
     "text": [
      "8 x 1 = 8\n",
      "8 x 2 = 16\n",
      "8 x 3 = 24\n",
      "8 x 4 = 32\n",
      "8 x 5 = 40\n",
      "8 x 6 = 48\n",
      "8 x 7 = 56\n",
      "8 x 8 = 64\n",
      "8 x 9 = 72\n",
      "8 x 10 = 80\n"
     ]
    }
   ],
   "source": [
    "def table(n):\n",
    "    for i in range (1,11):\n",
    "        print(n,\"x\",i,\"=\",n*i)\n",
    "table(8)"
   ]
  },
  {
   "cell_type": "markdown",
   "metadata": {},
   "source": [
    "## Boucle tant que / While\n",
    "La boucle \"tant que\" permet de faire exactement ce que fait une boucle \"pour\", mais elle permet aussi de construire une boucle lorsqu'on ne sait pas au départ combien de \"passages\" seront nécessaires.\n",
    "Cette boucle est donc soumise à une condition : tant que la condition est vérifiée, on fait…\n",
    "Dans la boucle tant que, c'est le programmeur qui choisit la façon dont évolue la valeur de i.\n",
    "\n",
    "Le programme suivant affiche la même chose que le premier programme de la boucle \"for\""
   ]
  },
  {
   "cell_type": "code",
   "execution_count": 7,
   "metadata": {},
   "outputs": [
    {
     "name": "stdout",
     "output_type": "stream",
     "text": [
      "0\n",
      "1\n",
      "2\n",
      "3\n",
      "4\n",
      "5\n",
      "6\n",
      "7\n",
      "8\n",
      "9\n"
     ]
    }
   ],
   "source": [
    "i=0              #on initialise la valeur de i (ici pour commencer à 0)\n",
    "while i<10:     #voici la condition : on répète tant que i est strictement inférieur à 10\n",
    "        print(i) #on affiche la valeur de i\n",
    "        i=i+1    #on n'oublie pas de faire varier la valeur de i : i faisait 0, il va faire 1, puis 2, ..."
   ]
  },
  {
   "cell_type": "markdown",
   "metadata": {},
   "source": [
    "La dernière ligne est essentielle : sans elle, i sera toujours égal à 0, et le programme va afficher une suite de \"0\", sans s'arrêter : en effet i=0 sera toujours inférieur à 10, la condition sera toujours vérifiée et la boucle ne s'arrêtera pas.\n",
    "\n",
    "**exemple de boucle tant que.**\n",
    "Je veux créer une fonction qui affiche la table de multiplication de l'entier n jusqu à ce que le résultat soit égal à 100 : je ne sais pas combien de fois je fais faire \"tourner\" la boucle…"
   ]
  },
  {
   "cell_type": "code",
   "execution_count": 8,
   "metadata": {},
   "outputs": [
    {
     "name": "stdout",
     "output_type": "stream",
     "text": [
      "7\n",
      "14\n",
      "21\n",
      "28\n",
      "35\n",
      "42\n",
      "49\n",
      "56\n",
      "63\n",
      "70\n",
      "77\n",
      "84\n",
      "91\n",
      "98\n"
     ]
    }
   ],
   "source": [
    "def Table100(n):\n",
    "    i=1\n",
    "    produit=n*i\n",
    "    while produit<100:\n",
    "        print(produit)\n",
    "        i=i+1\n",
    "        produit=n*i\n",
    "\n",
    "Table100(7)"
   ]
  },
  {
   "cell_type": "markdown",
   "metadata": {},
   "source": [
    "# exercices\n",
    "\n",
    "## exercice 1.\n",
    "$(u_n)$ est une suite géométrique de premier terme $u_0=3$ et de raison 2.\n",
    "Ecris une fonction Terme(k) qui affiche les termes $u_0$, $u_1$, ..., $u_k$.\n",
    "\n",
    "*remarque :* ici on connaît le nombre de calculs à faire, on va utiliser la boucle \"for\".  \n",
    "\n"
   ]
  },
  {
   "cell_type": "code",
   "execution_count": 11,
   "metadata": {},
   "outputs": [
    {
     "name": "stdout",
     "output_type": "stream",
     "text": [
      "le terme de rang 0 est égal à 3\n",
      "le terme de rang 1 est égal à 6\n",
      "le terme de rang 2 est égal à 12\n",
      "le terme de rang 3 est égal à 24\n",
      "le terme de rang 4 est égal à 48\n",
      "le terme de rang 5 est égal à 96\n",
      "le terme de rang 6 est égal à 192\n",
      "le terme de rang 7 est égal à 384\n",
      "le terme de rang 8 est égal à 768\n",
      "le terme de rang 9 est égal à 1536\n",
      "le terme de rang 10 est égal à 3072\n"
     ]
    }
   ],
   "source": [
    "def Terme(k):\n",
    "    u=3\n",
    "    for i in range (k+1):\n",
    "        print(\"le terme de rang\",i,\"est égal à\",u)\n",
    "        u=u*2\n",
    "Terme(10)"
   ]
  },
  {
   "cell_type": "markdown",
   "metadata": {},
   "source": [
    "## exercice 2.\n",
    "$(s_n)$ est une suite géométrique de premier terme $s_0=1000$ et de raison $r=1,02$.\n",
    "A l'aide d'une boucle \"tant que\" construis une programme permettant de connaître le plus petit terme k tel que $u_k>2000$"
   ]
  },
  {
   "cell_type": "code",
   "execution_count": 13,
   "metadata": {},
   "outputs": [
    {
     "data": {
      "text/plain": [
       "36"
      ]
     },
     "execution_count": 13,
     "metadata": {},
     "output_type": "execute_result"
    }
   ],
   "source": [
    "def sup2000():\n",
    "    s=1000\n",
    "    i=0\n",
    "    while s<=2000:\n",
    "        s=s*1.02\n",
    "        i=i+1\n",
    "    return(i)\n",
    "sup2000()"
   ]
  },
  {
   "cell_type": "markdown",
   "metadata": {},
   "source": [
    "Afin de voir si le programme calcule correctement ce que l'on veut, on peut lui faire afficher les résultats intermédiaires : "
   ]
  },
  {
   "cell_type": "code",
   "execution_count": 15,
   "metadata": {},
   "outputs": [
    {
     "name": "stdout",
     "output_type": "stream",
     "text": [
      "rang : 0 ; valeur : 1000\n",
      "rang : 1 ; valeur : 1020.0\n",
      "rang : 2 ; valeur : 1040.4\n",
      "rang : 3 ; valeur : 1061.208\n",
      "rang : 4 ; valeur : 1082.43216\n",
      "rang : 5 ; valeur : 1104.0808032\n",
      "rang : 6 ; valeur : 1126.162419264\n",
      "rang : 7 ; valeur : 1148.68566764928\n",
      "rang : 8 ; valeur : 1171.6593810022657\n",
      "rang : 9 ; valeur : 1195.092568622311\n",
      "rang : 10 ; valeur : 1218.9944199947574\n",
      "rang : 11 ; valeur : 1243.3743083946526\n",
      "rang : 12 ; valeur : 1268.2417945625457\n",
      "rang : 13 ; valeur : 1293.6066304537967\n",
      "rang : 14 ; valeur : 1319.4787630628728\n",
      "rang : 15 ; valeur : 1345.8683383241303\n",
      "rang : 16 ; valeur : 1372.785705090613\n",
      "rang : 17 ; valeur : 1400.2414191924252\n",
      "rang : 18 ; valeur : 1428.2462475762736\n",
      "rang : 19 ; valeur : 1456.811172527799\n",
      "rang : 20 ; valeur : 1485.947395978355\n",
      "rang : 21 ; valeur : 1515.6663438979222\n",
      "rang : 22 ; valeur : 1545.9796707758805\n",
      "rang : 23 ; valeur : 1576.8992641913983\n",
      "rang : 24 ; valeur : 1608.4372494752263\n",
      "rang : 25 ; valeur : 1640.6059944647309\n",
      "rang : 26 ; valeur : 1673.4181143540254\n",
      "rang : 27 ; valeur : 1706.886476641106\n",
      "rang : 28 ; valeur : 1741.024206173928\n",
      "rang : 29 ; valeur : 1775.8446902974065\n",
      "rang : 30 ; valeur : 1811.3615841033547\n",
      "rang : 31 ; valeur : 1847.588815785422\n",
      "rang : 32 ; valeur : 1884.5405921011304\n",
      "rang : 33 ; valeur : 1922.231403943153\n",
      "rang : 34 ; valeur : 1960.6760320220162\n",
      "rang : 35 ; valeur : 1999.8895526624565\n",
      "rang : 36 ; valeur : 2039.8873437157056\n"
     ]
    },
    {
     "data": {
      "text/plain": [
       "36"
      ]
     },
     "execution_count": 15,
     "metadata": {},
     "output_type": "execute_result"
    }
   ],
   "source": [
    "def sup2000():\n",
    "    s=1000\n",
    "    i=0\n",
    "    print(\"rang :\",i,\"; valeur :\",s)\n",
    "    while s<=2000:\n",
    "        s=s*1.02\n",
    "        i=i+1\n",
    "        print(\"rang :\",i,\"; valeur :\",s)\n",
    "    return(i)\n",
    "sup2000()"
   ]
  }
 ],
 "metadata": {
  "kernelspec": {
   "display_name": "Python 3",
   "language": "python",
   "name": "python3"
  },
  "language_info": {
   "codemirror_mode": {
    "name": "ipython",
    "version": 3
   },
   "file_extension": ".py",
   "mimetype": "text/x-python",
   "name": "python",
   "nbconvert_exporter": "python",
   "pygments_lexer": "ipython3",
   "version": "3.7.3"
  }
 },
 "nbformat": 4,
 "nbformat_minor": 2
}
