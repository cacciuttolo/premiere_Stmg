{
 "cells": [
  {
   "cell_type": "markdown",
   "metadata": {},
   "source": [
    "## PYTHON RAPPELS : FONCTIONS ![icone python](https://upload.wikimedia.org/wikipedia/commons/0/0a/Python.svg)"
   ]
  },
  {
   "cell_type": "markdown",
   "metadata": {},
   "source": [
    "#  Comment travailler avec un notebook Jupiter (ce document) ?\n",
    "Un notebook jupyter est composé de cellules : \n",
    "- certaines sont des cellules de texte (comme celle-ci, par exemple)\n",
    "- d'autres sont des cellules de code, où on écrit du langage python : on les reconnaît car il est écrit *Entrée [ ]* devant.\n",
    "\n",
    "\n",
    "On peut écrire dans chacune d'elle. Pour valider une cellule (**indispensable pour exécuter un programme python**), on peut soit utiliser le raccourci clavier Ctrl+Entrée, soit cliquer sur le bouton Exécuter. On peut exécuter plusieurs fois la cellule, si on a corrigé ou modifié un programme par exemple.\n",
    "\n",
    "\n",
    "**remarque :** dans un programme python, on peut utiliser le symbole # devant une ligne : cette ligne devient alors un commentaire, elle n'est pas exécutée par Python. \n",
    "\n",
    "\n",
    "Une fois le travail terminé, vous allez le télécharger pour ensuite l'envoyer au professeur.\n",
    "Pour cela, allez dans Fichier, Télécharger au format, puis HTML (.html)\n",
    "\n",
    "**Si vous n'arrivez pas à télécharger le fichier au format html** (c'est parfois le cas avec une tablette ou un smartphone), vous pouvez le télécharger au format notebook(ipynb).\n",
    "\n",
    "Le document téléchargé en html sera lisible par un navigateur internet, mais ne pourra pas être modifié. Le fichier au format ipynb est modifiable, mais à condition d'avoir le logiciel qui le permet (Jupyter)."
   ]
  },
  {
   "cell_type": "markdown",
   "metadata": {},
   "source": [
    "# Instruction conditionnelle si… alors… sinon.\n",
    "Une instruction conditionnelle est une instruction qui dépend d’une condition. \n",
    "Ces instructions sont très courantes dans la vie réelles (s'il fait froid alors je mets un manteau) comme en informatique. \n",
    "\n",
    "**Symboles de comparaison pour la condition**\n",
    "- $==$ : ce symbole teste si deux valeurs sont égales.\n",
    "- $!=$ : ce symbole teste si deux valeurs sont différentes.\n",
    "- $>$ : ce symbole teste si la première valeur est strictement supérieure à la deuxième.\n",
    "- $>=$ : ce symbole teste si la première valeur est supérieure ou égale à la deuxième.\n",
    "- $<$ : ce symbole teste si la première valeur est strictement inférieure à la deuxième.\n",
    "- $<=$ : ce symbole teste si la première valeur est inférieure ou égale à la deuxième.\n",
    "\n",
    "En langage Python, on utilise les termes anglais if et else, en utilisant une syntaxe et une indentation précise.\n",
    "\n",
    "Exemple :\n"
   ]
  },
  {
   "cell_type": "code",
   "execution_count": null,
   "metadata": {},
   "outputs": [],
   "source": [
    "def plage(temperature):\n",
    "    if temperature>=26:\n",
    "        print(\"Super, je vais à la plage\")\n",
    "    else:\n",
    "        print(\"dommage, je vais travailler\")"
   ]
  },
  {
   "cell_type": "markdown",
   "metadata": {},
   "source": [
    "Que va-t-il se passer si on exécute plage(30) ? Et plage(22) ?"
   ]
  },
  {
   "cell_type": "code",
   "execution_count": null,
   "metadata": {},
   "outputs": [],
   "source": [
    "#Écris ce que tu veux calculer avec python ici :"
   ]
  },
  {
   "cell_type": "code",
   "execution_count": null,
   "metadata": {},
   "outputs": [],
   "source": [
    "#Écris ce que tu veux calculer avec python ici :"
   ]
  },
  {
   "cell_type": "markdown",
   "metadata": {},
   "source": [
    "*remarque* : l'instruction \"else\" n'est pas toujours nécessaire, on peut ne pas l'utiliser."
   ]
  },
  {
   "cell_type": "markdown",
   "metadata": {},
   "source": [
    "# exercice 1.\n",
    "Un gouvernement décide d'augmenter de 100€ tous les salaires strictement inférieurs à 1200€.\n",
    "Ecris une fonction NouveauSalaire qui a comme paramètre Salaire et qui renvoie le salaire augmenté de 100€ si le salaire est strictement inférieur à 1200€, et qui renvoie le salaire sans augmentation sinon.\n",
    "\n",
    "On vérifiera que NouveauSalaire(1150) doit renvoyer 1250, \n",
    "et NouveauSalaire(1500) doit renvoyer 1500."
   ]
  },
  {
   "cell_type": "code",
   "execution_count": null,
   "metadata": {},
   "outputs": [],
   "source": [
    "# exercice 1\n"
   ]
  },
  {
   "cell_type": "markdown",
   "metadata": {},
   "source": [
    "Tests - vérifications :"
   ]
  },
  {
   "cell_type": "code",
   "execution_count": null,
   "metadata": {},
   "outputs": [],
   "source": [
    "#Écris ce que tu veux calculer avec python ici :\n"
   ]
  },
  {
   "cell_type": "code",
   "execution_count": null,
   "metadata": {},
   "outputs": [],
   "source": [
    "#Écris ce que tu veux calculer avec python ici :\n"
   ]
  },
  {
   "cell_type": "markdown",
   "metadata": {},
   "source": [
    "# exercice 2.\n",
    "Ecris une fonction PlusPetit qui a pour paramètres deux nombres a et b et qui renvoie \n",
    "le plus petit des deux nombres."
   ]
  },
  {
   "cell_type": "code",
   "execution_count": null,
   "metadata": {},
   "outputs": [],
   "source": [
    "# exercice 2\n"
   ]
  },
  {
   "cell_type": "markdown",
   "metadata": {},
   "source": [
    "Tests - vérifications : "
   ]
  },
  {
   "cell_type": "code",
   "execution_count": null,
   "metadata": {},
   "outputs": [],
   "source": [
    "#Écris ce que tu veux calculer avec python ici :\n"
   ]
  },
  {
   "cell_type": "code",
   "execution_count": null,
   "metadata": {},
   "outputs": [],
   "source": [
    "#Écris ce que tu veux calculer avec python ici :\n"
   ]
  }
 ],
 "metadata": {
  "kernelspec": {
   "display_name": "Python 3",
   "language": "python",
   "name": "python3"
  },
  "language_info": {
   "codemirror_mode": {
    "name": "ipython",
    "version": 3
   },
   "file_extension": ".py",
   "mimetype": "text/x-python",
   "name": "python",
   "nbconvert_exporter": "python",
   "pygments_lexer": "ipython3",
   "version": "3.7.3"
  }
 },
 "nbformat": 4,
 "nbformat_minor": 2
}
