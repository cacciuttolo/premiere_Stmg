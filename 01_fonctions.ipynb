{
 "cells": [
  {
   "cell_type": "markdown",
   "metadata": {},
   "source": [
    "## PYTHON RAPPELS : FONCTIONS ![icone python](https://upload.wikimedia.org/wikipedia/commons/0/0a/Python.svg)"
   ]
  },
  {
   "cell_type": "markdown",
   "metadata": {},
   "source": [
    "#  Comment travailler avec un notebook Jupiter (ce document) ?\n",
    "Un notebook jupyter est composé de cellules : \n",
    "- certaines sont des cellules de texte (comme celle-ci, par exemple)\n",
    "- d'autres sont des cellules de code, où on écrit du langage python : on les reconnaît car il est écrit *Entrée [ ]* devant.\n",
    "\n",
    "\n",
    "On peut écrire dans chacune d'elle. Pour valider une cellule (**indispensable pour exécuter un programme python**), on peut soit utiliser le raccourci clavier Ctrl+Entrée, soit cliquer sur le bouton Exécuter. On peut exécuter plusieurs fois la cellule, si on a corrigé ou modifié un programme par exemple.\n",
    "\n",
    "\n",
    "**remarque :** dans un programme python, on peut utiliser le symbole # devant une ligne : cette ligne devient alors un commentaire, elle n'est pas exécutée par Python. \n",
    "\n",
    "\n",
    "Une fois le travail terminé, vous allez le télécharger pour ensuite l'envoyer au professeur.\n",
    "Pour cela, allez dans Fichier, Télécharger au format, puis HTML (.html)\n",
    "\n",
    "Le document téléchargé sera lisible par un navigateur internet, mais ne pourra pas être modifié."
   ]
  },
  {
   "cell_type": "markdown",
   "metadata": {},
   "source": [
    "#  Notion de fonction\n",
    "En python, on utilise souvent la notion de fonction qui permet de concevoir ses propres outils de calcul afin de ne pas répéter plusieurs fois les mêmes séquences de calcul.\n",
    "\n",
    "Par exemple, je veux calculer la moyenne de mes élèves qui ont fait quatre devoirs : les devoir n1 et n2 sont coefficient 1, et les devoirs n3 et n4 sont coefficent 3.\n",
    "Le calcul à faire est donc $m=\\frac{n1+n2+3\\times{n3}+3\\times{n4}}{1+1+3+3}=\\frac{n1+n2+3\\times{n3}+3\\times{n4}}{8}$\n",
    "On va donc construire la fonction appelée moyenne\n",
    "\n",
    "Une fonction est toujours composée des éléments suivant : \n",
    "- de l'instruction *def*  qui permet d'indiquer que l'on définit une fonction.\n",
    "- du nom de la fonction, ici *moyenne*\n",
    "- des variables utilisées entre parenthèses, ici *(n1,n2,n3,n4)*. S'il n'y a pas de variable, on écrit quand même les parenthèses vides *()*\n",
    "- de deux points après les parenthèses *:* indiquant que l'on va commencer à écrire la définition\n",
    "- du corps de la fonction qui est **indenté** : il est décalé horizontalement\n",
    "- de l'instruction *return* qui permet de \"renvoyer\" le résultat (parfois non obligatoire, mais pas cette année).\n",
    "\n",
    "Voici ce que cela donne dans notre cas : "
   ]
  },
  {
   "cell_type": "code",
   "execution_count": null,
   "metadata": {},
   "outputs": [],
   "source": [
    "def moyenne(n1,n2,n3,n4):        # ceci est donc la ligne qui définit la fonction, avec les paramètres\n",
    "    return ((n1+n2+3*n3+3*n4)/8) # voici ce que fait et retourne la fonction\n",
    "moyenne(11,13,9,11)              # on n'est plus dans la fonction (pas d'indentation), ici on exécute celle-ci.\n",
    "\n",
    "\n",
    "# Valide cette cellule pour exécuter le programme : \n",
    "# clique dans la cellule, puis\n",
    "# Ctrl+Entrée, ou clic sur \"Exécuter\""
   ]
  },
  {
   "cell_type": "markdown",
   "metadata": {},
   "source": [
    "Cécilia a eu 7, 11, 12 et 10. Quelle est sa moyenne ?"
   ]
  },
  {
   "cell_type": "code",
   "execution_count": null,
   "metadata": {},
   "outputs": [],
   "source": [
    "#Écris ce que tu veux calculer avec python ici :\n"
   ]
  },
  {
   "cell_type": "markdown",
   "metadata": {},
   "source": [
    "Bilal a lui raté son premier devoir : 3 puis il a eu 9;12;12. Quelle est sa moyenne ?"
   ]
  },
  {
   "cell_type": "code",
   "execution_count": null,
   "metadata": {},
   "outputs": [],
   "source": [
    "#Écris ce que tu veux calculer avec python ici :\n"
   ]
  },
  {
   "cell_type": "markdown",
   "metadata": {},
   "source": [
    "Mathys a eu 14;9;12 et ... il ne se rappelle plus. Mais sa moyenne est 11.5. Quelle est sa quatrième note ?"
   ]
  },
  {
   "cell_type": "code",
   "execution_count": null,
   "metadata": {},
   "outputs": [],
   "source": [
    "#Écris ce que tu veux calculer avec python ici :\n"
   ]
  },
  {
   "cell_type": "markdown",
   "metadata": {},
   "source": [
    "# exercice 1.\n",
    "Le prof d'histoire veut faire de même. Il a eu 5 notes coefficient 1.\n",
    "Écris la fonction MoyenneHistoire qui calcule la moyenne des notes n1, n2, n3, n4 et n5. "
   ]
  },
  {
   "cell_type": "code",
   "execution_count": null,
   "metadata": {},
   "outputs": [],
   "source": [
    "# exercice 1\n"
   ]
  },
  {
   "cell_type": "markdown",
   "metadata": {},
   "source": [
    "Quelle est la moyenne en histoire de Cécilia qui a eu 12;8;11;5;9 ?"
   ]
  },
  {
   "cell_type": "code",
   "execution_count": null,
   "metadata": {},
   "outputs": [],
   "source": [
    "#Écris ce que tu veux calculer avec python ici :\n"
   ]
  },
  {
   "cell_type": "markdown",
   "metadata": {},
   "source": [
    "Bilal a obtenu 11;14;15;3;5. A-t-il une meilleure moyenne en histoire qu'en math ?"
   ]
  },
  {
   "cell_type": "code",
   "execution_count": null,
   "metadata": {},
   "outputs": [],
   "source": [
    "#Écris ce que tu veux calculer avec python ici :\n"
   ]
  },
  {
   "cell_type": "markdown",
   "metadata": {},
   "source": [
    "# exercice 2.\n",
    "On consière la fonction mathématique définie pour tout réel strictement positif $x$ par $f(x)=\\displaystyle\\frac{2x+1}{x}$. Construis la fonction Python appelée *fonc(x)* qui calcule l'image du nombre *x*. "
   ]
  },
  {
   "cell_type": "code",
   "execution_count": null,
   "metadata": {},
   "outputs": [],
   "source": [
    "# exercice 2 \n"
   ]
  },
  {
   "cell_type": "markdown",
   "metadata": {},
   "source": [
    "Quelle est l'image de 10 ?"
   ]
  },
  {
   "cell_type": "code",
   "execution_count": null,
   "metadata": {},
   "outputs": [],
   "source": [
    "#Écris ce que tu veux calculer avec python ici :\n"
   ]
  },
  {
   "cell_type": "markdown",
   "metadata": {},
   "source": [
    "Quelle est l'image de -1 ?"
   ]
  },
  {
   "cell_type": "code",
   "execution_count": null,
   "metadata": {},
   "outputs": [],
   "source": [
    "#Écris ce que tu veux calculer avec python ici :\n"
   ]
  },
  {
   "cell_type": "markdown",
   "metadata": {},
   "source": [
    "# exercice 3.\n",
    "Dans un magasin de pièces détachées, le vendeur possède la liste des prix hors taxes des pièces. On sait que la TVA s'élève à 19,6%.\n",
    "Construis la fonction PrixTTC qui a pour paramètre PrixHT et qui calcule le prix toutes taxes comprises de la pièce.\n",
    "\n",
    "**Rappel** : augmenter de 19,6% revient à multpilier par $\\displaystyle 1+\\frac{19,6}{100}=1,196$."
   ]
  },
  {
   "cell_type": "code",
   "execution_count": null,
   "metadata": {},
   "outputs": [],
   "source": [
    "# exercice 3 \n"
   ]
  },
  {
   "cell_type": "markdown",
   "metadata": {},
   "source": [
    "Quelle est le prix TTC d'une pièce dont le prix HT était 150€ ?"
   ]
  },
  {
   "cell_type": "code",
   "execution_count": null,
   "metadata": {},
   "outputs": [],
   "source": [
    "#Écris ce que tu veux calculer avec python ici :\n"
   ]
  },
  {
   "cell_type": "markdown",
   "metadata": {},
   "source": [
    "Quelle est le prix TTC d'une pièce dont le prix HT était 117€ ?"
   ]
  },
  {
   "cell_type": "code",
   "execution_count": null,
   "metadata": {},
   "outputs": [],
   "source": [
    "#Écris ce que tu veux calculer avec python ici :\n"
   ]
  },
  {
   "cell_type": "markdown",
   "metadata": {},
   "source": [
    "# exercice 4 : tout à -70% !\n",
    "Fabrique la fonction solde(prix) qui prend pour paramètre le prix d'un objet et qui calcule le nouveau prix obtenu en faisant une réduction de 70%."
   ]
  },
  {
   "cell_type": "code",
   "execution_count": null,
   "metadata": {},
   "outputs": [],
   "source": [
    "# exercice 4 \n"
   ]
  },
  {
   "cell_type": "markdown",
   "metadata": {},
   "source": [
    "Quel est le nouveau prix d'un machin qui coûtait 280€ ?"
   ]
  },
  {
   "cell_type": "code",
   "execution_count": null,
   "metadata": {},
   "outputs": [],
   "source": [
    "#Écris ce que tu veux calculer avec python ici :\n"
   ]
  },
  {
   "cell_type": "markdown",
   "metadata": {},
   "source": [
    "Quel est le nouveau prix d'un truc qui coûtait 1999€ ?"
   ]
  },
  {
   "cell_type": "code",
   "execution_count": null,
   "metadata": {},
   "outputs": [],
   "source": [
    "#Écris ce que tu veux calculer avec python ici :\n"
   ]
  },
  {
   "cell_type": "markdown",
   "metadata": {},
   "source": [
    "# exercice 5 : augmentation de salaire\n",
    "Les salariés d'une entreprise vont tous être augmentés. Cependant le pourcentage d'augmentation ne sera pas le même pour tous...\n",
    "Construis une fonction *CalcSalaire* qui aura deux paramètres : *salaire*, qui est l'ancien salaire de la personne, et *taux* qui est le pourcentage d'augmentation (par exemple, si le salaire d'un employé augmente de 5%, taux sera égal à 0,05).\n",
    "\n",
    "Cette fonction *CalcSalaire* calcule le nouveau salaire.\n",
    "\n",
    "**Rappel** : si une quantité varie d'un taux t, cela revient à multiplier cette quantité par 1+t"
   ]
  },
  {
   "cell_type": "code",
   "execution_count": null,
   "metadata": {},
   "outputs": [],
   "source": [
    "# exercice 5\n",
    "def CalcSalaire(salaire,taux):\n"
   ]
  },
  {
   "cell_type": "markdown",
   "metadata": {},
   "source": [
    "Quel est le nouveau salaire de Jean-Louis qui gagnait 1300€ et qui a eu une augmentation de 3% ?"
   ]
  },
  {
   "cell_type": "code",
   "execution_count": null,
   "metadata": {},
   "outputs": [],
   "source": [
    "#Écris ce que tu veux calculer avec python ici :\n"
   ]
  },
  {
   "cell_type": "markdown",
   "metadata": {},
   "source": [
    "Même question avec Phil qui avait un salaire de 1100€ et qui a été augmenté de 8%."
   ]
  },
  {
   "cell_type": "code",
   "execution_count": null,
   "metadata": {},
   "outputs": [],
   "source": [
    "#Écris ce que tu veux calculer avec python ici :\n"
   ]
  }
 ],
 "metadata": {
  "kernelspec": {
   "display_name": "Python 3",
   "language": "python",
   "name": "python3"
  },
  "language_info": {
   "codemirror_mode": {
    "name": "ipython",
    "version": 3
   },
   "file_extension": ".py",
   "mimetype": "text/x-python",
   "name": "python",
   "nbconvert_exporter": "python",
   "pygments_lexer": "ipython3",
   "version": "3.7.3"
  }
 },
 "nbformat": 4,
 "nbformat_minor": 2
}
